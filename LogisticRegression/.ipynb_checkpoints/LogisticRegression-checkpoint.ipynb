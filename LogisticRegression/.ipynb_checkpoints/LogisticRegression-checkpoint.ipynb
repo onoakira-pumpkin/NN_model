{
 "cells": [
  {
   "cell_type": "markdown",
   "metadata": {},
   "source": [
    "# LogisticRegression"
   ]
  },
  {
   "cell_type": "code",
   "execution_count": null,
   "metadata": {},
   "outputs": [],
   "source": [
    "import numpy as np"
   ]
  },
  {
   "cell_type": "code",
   "execution_count": null,
   "metadata": {},
   "outputs": [],
   "source": [
    "class LogisticRegression(object):\n",
    "    def __init__(self, input_dim, lr):\n",
    "        self.input_dim = input_dim\n",
    "        self.weight = np.random.normal(size=(input_dim, ))\n",
    "        self.bias = 0.\n",
    "        self.lr = lr\n",
    "    \n",
    "    def __call__(self, x):\n",
    "        return self.forward(x)\n",
    "    \n",
    "    #x(emb_dim, )\n",
    "    def forward(self, x):\n",
    "        return self.sigmoid(np.matmul(x, self.weight) + self.bias)\n",
    "    \n",
    "    def compute_gradients(self, x, t):\n",
    "        y = self.forward(x)\n",
    "        delta = y - t\n",
    "        dw = np.matmul(x.T, delta)\n",
    "        db = np.matmul(np.ones(x.shape[0]), delta)\n",
    "        return dw, db\n",
    "    \n",
    "    def sigmoid(self, x):\n",
    "        return 1 / (1 + np.exp(-x))\n",
    "    \n",
    "    def compute_loss(self, t, y):\n",
    "        return (-t * np.log(y) - (1 - t) * np.log(1 - y)).sum()\n",
    "    \n",
    "    def train_step(self, x, t):\n",
    "        dw, db = self.compute_gradients(x, t)\n",
    "        self.weight = self.weight - self.lr * dw\n",
    "        self.bias = self.bias - self.lr * db\n",
    "        loss = self.compute_loss(t, model(x))\n",
    "        return loss"
   ]
  },
  {
   "cell_type": "markdown",
   "metadata": {},
   "source": [
    "# 実行例"
   ]
  },
  {
   "cell_type": "code",
   "execution_count": null,
   "metadata": {},
   "outputs": [],
   "source": [
    "# OR\n",
    "x = np.array([[0,0], [0,1], [1,0], [1,1]])\n",
    "t = np.array([0, 1, 1, 1])"
   ]
  },
  {
   "cell_type": "code",
   "execution_count": null,
   "metadata": {},
   "outputs": [],
   "source": [
    "model = LogisticRegression(input_dim=2, lr=0.1)"
   ]
  },
  {
   "cell_type": "code",
   "execution_count": null,
   "metadata": {},
   "outputs": [],
   "source": [
    "epochs = 1000\n",
    "\n",
    "for epoch in range(epochs):\n",
    "    loss = model.train_step(x, t)\n",
    "    if epoch % 10 == 0 or epoch == epochs-1:\n",
    "        print('epoch: [{}] \\ntrain_loss: {:.3f}'.format(epoch, loss))"
   ]
  }
 ],
 "metadata": {
  "kernelspec": {
   "display_name": "Python 3",
   "language": "python",
   "name": "python3"
  },
  "language_info": {
   "codemirror_mode": {
    "name": "ipython",
    "version": 3
   },
   "file_extension": ".py",
   "mimetype": "text/x-python",
   "name": "python",
   "nbconvert_exporter": "python",
   "pygments_lexer": "ipython3",
   "version": "3.7.3"
  },
  "toc": {
   "base_numbering": 1,
   "nav_menu": {},
   "number_sections": true,
   "sideBar": true,
   "skip_h1_title": false,
   "title_cell": "Table of Contents",
   "title_sidebar": "Contents",
   "toc_cell": false,
   "toc_position": {},
   "toc_section_display": true,
   "toc_window_display": false
  }
 },
 "nbformat": 4,
 "nbformat_minor": 4
}
