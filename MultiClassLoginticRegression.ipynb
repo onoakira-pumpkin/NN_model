{
 "cells": [
  {
   "cell_type": "markdown",
   "metadata": {},
   "source": [
    "# MultiClassLoginticRegression"
   ]
  },
  {
   "cell_type": "code",
   "execution_count": null,
   "metadata": {},
   "outputs": [],
   "source": [
    "import numpy as np"
   ]
  },
  {
   "cell_type": "code",
   "execution_count": null,
   "metadata": {},
   "outputs": [],
   "source": [
    "class MultiClassLogisticRegression(object):\n",
    "    def __init__(self, input_dim, output_dim, lr):\n",
    "        self.input_dim = input_dim\n",
    "        self.weight = np.random.normal(size=(input_dim, output_dim))\n",
    "        self.bias = np.zeros(output_dim)\n",
    "        self.lr = lr\n",
    "    \n",
    "    def __call__(self, x):\n",
    "        return self.forward(x)\n",
    "    \n",
    "    #x(emb_dim, )\n",
    "    def forward(self, x):\n",
    "        return self.softmax(np.matmul(x, self.weight) + self.bias)\n",
    "    \n",
    "    def compute_gradients(self, x, t):\n",
    "        y = self.forward(x)\n",
    "        delta = y - t\n",
    "        dw = np.matmul(x.T, delta)\n",
    "        db = np.matmul(np.ones(x.shape[0]), delta)\n",
    "        return dw, db\n",
    "    \n",
    "    def softmax(self, x):\n",
    "        return np.exp(x) / np.sum(np.exp(x), axis = 1, keepdims=True)\n",
    "    \n",
    "    def compute_loss(self, t, y):\n",
    "        return (-t * np.log(y)).sum(axis=1).mean()\n",
    "    \n",
    "    def train_step(self, x, t):\n",
    "        dw, db = self.compute_gradients(x, t)\n",
    "        self.weight = self.weight - self.lr * dw\n",
    "        self.bias = self.bias - self.lr * db\n",
    "        loss = self.compute_loss(t, model(x))\n",
    "        return loss"
   ]
  },
  {
   "cell_type": "markdown",
   "metadata": {},
   "source": [
    "# 実行例"
   ]
  },
  {
   "cell_type": "code",
   "execution_count": null,
   "metadata": {},
   "outputs": [],
   "source": [
    "M = 2\n",
    "K = 3\n",
    "n = 100\n",
    "N = n * K\n",
    "\n",
    "x1 = np.random.randn(n, M) + np.array([0, 10])\n",
    "x2 = np.random.randn(n, M) + np.array([5, 5])\n",
    "x3 = np.random.randn(n, M) + np.array([10, 0])\n",
    "t1 = np.array([[1, 0, 0] for _ in range(n)])\n",
    "t2 = np.array([[0, 1, 0] for _ in range(n)])\n",
    "t3 = np.array([[0, 0, 1] for _ in range(n)])\n",
    "x = np.concatenate((x1, x2, x3), axis = 0)\n",
    "t = np.concatenate((t1, t2, t3), axis = 0)\n",
    "\n",
    "print(x)\n",
    "print(t)"
   ]
  },
  {
   "cell_type": "code",
   "execution_count": null,
   "metadata": {},
   "outputs": [],
   "source": [
    "model = MultiClassLogisticRegression(input_dim=M, output_dim=K, lr=0.1)"
   ]
  },
  {
   "cell_type": "code",
   "execution_count": null,
   "metadata": {},
   "outputs": [],
   "source": [
    "from sklearn.utils import shuffle\n",
    "\n",
    "epochs = 10\n",
    "batch_size = 50\n",
    "n_batches = x.shape[0] // batch_size\n",
    "\n",
    "for epoch in range(epochs):\n",
    "    train_loss = 0.\n",
    "    x_, t_ = shuffle(x, t)\n",
    "    \n",
    "    for n_batch in range(n_batches):\n",
    "        start = n_batch * batch_size\n",
    "        end = start + batch_size\n",
    "        \n",
    "        train_loss += model.train_step(x_[start:end], t[start:end])\n",
    "        \n",
    "    print('epoch: [{}] \\ntrain_loss: {:.3f}'.format(epoch, train_loss))"
   ]
  },
  {
   "cell_type": "code",
   "execution_count": null,
   "metadata": {},
   "outputs": [],
   "source": [
    "model(np.array([[-10, 0]]))"
   ]
  }
 ],
 "metadata": {
  "kernelspec": {
   "display_name": "Python 3",
   "language": "python",
   "name": "python3"
  },
  "language_info": {
   "codemirror_mode": {
    "name": "ipython",
    "version": 3
   },
   "file_extension": ".py",
   "mimetype": "text/x-python",
   "name": "python",
   "nbconvert_exporter": "python",
   "pygments_lexer": "ipython3",
   "version": "3.7.3"
  },
  "toc": {
   "base_numbering": 1,
   "nav_menu": {},
   "number_sections": true,
   "sideBar": true,
   "skip_h1_title": false,
   "title_cell": "Table of Contents",
   "title_sidebar": "Contents",
   "toc_cell": false,
   "toc_position": {},
   "toc_section_display": true,
   "toc_window_display": true
  }
 },
 "nbformat": 4,
 "nbformat_minor": 4
}
