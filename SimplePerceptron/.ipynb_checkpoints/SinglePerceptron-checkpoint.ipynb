{
 "cells": [
  {
   "cell_type": "markdown",
   "metadata": {},
   "source": [
    "# SinglePerceptron"
   ]
  },
  {
   "cell_type": "code",
   "execution_count": 15,
   "metadata": {},
   "outputs": [],
   "source": [
    "import numpy as np"
   ]
  },
  {
   "cell_type": "code",
   "execution_count": 35,
   "metadata": {},
   "outputs": [],
   "source": [
    "class SinglePerceptron(object):\n",
    "    \n",
    "    def __init__(self, input_dim):\n",
    "        self.input_dim = input_dim\n",
    "        self.weight = np.random.normal(size = (input_dim, ))\n",
    "        self.bias = 0.\n",
    "       \n",
    "    def forward(self, x):\n",
    "        y = self.step(np.matmul(self.weight, x) + self.bias)\n",
    "        return y\n",
    "    \n",
    "    def compute_deltas(self, x, t):\n",
    "        y = self.forward(x)\n",
    "        delta = y - t\n",
    "        dw = delta * x\n",
    "        db = delta\n",
    "        return dw, db\n",
    "    \n",
    "    def step(self, x):\n",
    "        return 1 * (x > 0)\n",
    "    \n",
    "    def compute_loss(self, dw, db):\n",
    "        return all(dw == 0) * (db == 0)\n",
    "    \n",
    "    def train_step(self, x, t):\n",
    "        dw, db = self.compute_deltas(x, t)\n",
    "        loss = self.compute_loss(dw, db)\n",
    "        self.weight = self.weight - dw\n",
    "        self.bias = self.bias - db\n",
    "        return loss"
   ]
  },
  {
   "cell_type": "markdown",
   "metadata": {},
   "source": [
    "# 実行例"
   ]
  },
  {
   "cell_type": "code",
   "execution_count": 50,
   "metadata": {},
   "outputs": [],
   "source": [
    "d = 2\n",
    "N = 20\n",
    "mean = 5\n",
    "\n",
    "#x1: 平均0の正規分布 x2: 平均meanの正規分布\n",
    "x1 = np.random.randn(N//2, d) + np.array([0, 0])\n",
    "x2 = np.random.randn(N//2, d) + np.array([mean, mean])\n",
    "\n",
    "t1 = np.zeros(N//2)\n",
    "t2 = np.ones(N//2)\n",
    "\n",
    "x = np.concatenate((x1, x2), axis = 0)\n",
    "t = np.concatenate((t1, t2))"
   ]
  },
  {
   "cell_type": "code",
   "execution_count": 51,
   "metadata": {},
   "outputs": [],
   "source": [
    "model = SinglePerceptron(input_dim=2)"
   ]
  },
  {
   "cell_type": "code",
   "execution_count": 57,
   "metadata": {},
   "outputs": [
    {
     "name": "stdout",
     "output_type": "stream",
     "text": [
      "epoch: 1\tloss: True\n"
     ]
    }
   ],
   "source": [
    "while True:\n",
    "    epoch = 1\n",
    "    classified = True\n",
    "    for i in range(N):\n",
    "        loss = model.train_step(x[i], t[i])\n",
    "        classified *= loss\n",
    "    #全ての要素でlossがTrueなら終了\n",
    "    print('epoch: {}\\tloss: {}'.format(epoch, loss))\n",
    "    if classified:\n",
    "        break"
   ]
  },
  {
   "cell_type": "code",
   "execution_count": 58,
   "metadata": {
    "scrolled": false
   },
   "outputs": [
    {
     "name": "stdout",
     "output_type": "stream",
     "text": [
      "w:  [1.0199867  1.96815931]\n",
      "b:  -5.0\n"
     ]
    }
   ],
   "source": [
    "print('w: ', model.weight)\n",
    "print('b: ', model.bias)"
   ]
  },
  {
   "cell_type": "code",
   "execution_count": 56,
   "metadata": {
    "scrolled": true
   },
   "outputs": [
    {
     "name": "stdout",
     "output_type": "stream",
     "text": [
      "1\n"
     ]
    }
   ],
   "source": [
    "print(model.forward([3, 6]))"
   ]
  }
 ],
 "metadata": {
  "kernelspec": {
   "display_name": "Python 3",
   "language": "python",
   "name": "python3"
  },
  "language_info": {
   "codemirror_mode": {
    "name": "ipython",
    "version": 3
   },
   "file_extension": ".py",
   "mimetype": "text/x-python",
   "name": "python",
   "nbconvert_exporter": "python",
   "pygments_lexer": "ipython3",
   "version": "3.7.3"
  },
  "toc": {
   "base_numbering": 1,
   "nav_menu": {},
   "number_sections": true,
   "sideBar": true,
   "skip_h1_title": false,
   "title_cell": "Table of Contents",
   "title_sidebar": "Contents",
   "toc_cell": false,
   "toc_position": {},
   "toc_section_display": true,
   "toc_window_display": true
  }
 },
 "nbformat": 4,
 "nbformat_minor": 4
}
